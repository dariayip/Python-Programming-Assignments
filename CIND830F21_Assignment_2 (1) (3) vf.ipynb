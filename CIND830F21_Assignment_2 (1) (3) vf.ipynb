{
 "cells": [
  {
   "cell_type": "markdown",
   "metadata": {
    "id": "TX_-QfCapg5r"
   },
   "source": [
    "## CIND830 - Python Programming for Data Science  \n",
    "### Assignment 2 (10% of the final grade)\n",
    "### Due on November 15, 2021 11:59 PM"
   ]
  },
  {
   "cell_type": "markdown",
   "metadata": {
    "id": "U8IqCJzxpg5t"
   },
   "source": [
    "*****\n",
    "This is a Jupyter Notebook document that extends a simple formatting syntax for authoring HTML and PDF.\n",
    "Review [this](https://jupyter-notebook.readthedocs.io/en/stable/notebook.html) website for more details on using Juputer Notebook.\n",
    "\n",
    "Use the JupyterHub server on the Google Cloud Platform,\n",
    "provided by your designated instructor, for this assignment.\n",
    "Complete the assignment by inserting your Python code wherever you see the string\n",
    "\"#INSERT YOUR ANSWER HERE.\"\n",
    "\n",
    "When you click the `File` button, from the top navigation bar, then select `Export Notebook As ...`,\n",
    "a document (PDF or HTML format) will be generated that includes\n",
    " both the assignment content and the output of any embedded Python code chunks.\n",
    "\n",
    "Using [these](https://www.ryerson.ca/courses/students/tutorials/assignments/) guidelines,\n",
    "submit **both** the IPYNB and the exported file (PDF or HTML).\n",
    "Failing to submit both files will be subject to mark deduction."
   ]
  },
  {
   "cell_type": "markdown",
   "metadata": {
    "id": "_w2FpDl5pg5u"
   },
   "source": [
    "*****"
   ]
  },
  {
   "cell_type": "markdown",
   "metadata": {
    "id": "EgCYUXsUpg5w"
   },
   "source": [
    "### Question 1 **[30 pts]**:"
   ]
  },
  {
   "cell_type": "markdown",
   "metadata": {
    "id": "U8EiOXpFAvO0"
   },
   "source": [
    "**a)** **[5 pts]** Define a function called `is_symmetrical` that takes a string value as a parameter and returns `True` if the given string is Symmetrical. A string is said to be symmetrical if the reverse of the string is the same as string. For example, “madam” is symmetrical, but “water” is not symmetrical. Note that strings are case sensitive."
   ]
  },
  {
   "cell_type": "code",
   "execution_count": 137,
   "metadata": {
    "execution": {
     "iopub.execute_input": "2020-10-12T00:51:46.336Z",
     "iopub.status.busy": "2020-10-12T00:51:46.323Z",
     "iopub.status.idle": "2020-10-12T00:51:46.350Z",
     "shell.execute_reply": "2020-10-12T00:51:46.143Z"
    },
    "id": "uDtTitw9AvO1",
    "pycharm": {
     "name": "#%%\n"
    }
   },
   "outputs": [
    {
     "data": {
      "text/plain": [
       "True"
      ]
     },
     "execution_count": 137,
     "metadata": {},
     "output_type": "execute_result"
    }
   ],
   "source": [
    "def is_symmetrical(mystring):\n",
    "    newstring = \"\"\n",
    "    for i in range(len(mystring) - 1, -1, -1):\n",
    "        newstring = newstring + mystring[i]\n",
    "    if newstring == mystring:\n",
    "        result = True\n",
    "    else:\n",
    "        result = False\n",
    "    return result\n",
    "is_symmetrical(\"madam\")\n"
   ]
  },
  {
   "cell_type": "markdown",
   "metadata": {
    "id": "7P6eyfpepg58"
   },
   "source": [
    "**b)** **[5 pts]** Modify the `is_symmetrical` function you created in Q1.a to take any data type (int,str,etc.) as an input and return `True` if the input is symmetrical. For example, \"12321\" is symmetrical, but \"12345\" is not symmetrical."
   ]
  },
  {
   "cell_type": "code",
   "execution_count": 136,
   "metadata": {
    "colab": {
     "base_uri": "https://localhost:8080/"
    },
    "execution": {
     "iopub.execute_input": "2020-10-12T00:51:46.380Z",
     "iopub.status.busy": "2020-10-12T00:51:46.370Z",
     "iopub.status.idle": "2020-10-12T00:51:46.390Z",
     "shell.execute_reply": "2020-10-12T00:51:46.160Z"
    },
    "id": "s2xo2uaYpg59",
    "outputId": "83766694-3eb3-4ca5-ab7e-21f24d95f593",
    "pycharm": {
     "name": "#%%\n"
    },
    "tags": [
     "parameters"
    ]
   },
   "outputs": [
    {
     "data": {
      "text/plain": [
       "True"
      ]
     },
     "execution_count": 136,
     "metadata": {},
     "output_type": "execute_result"
    }
   ],
   "source": [
    "myinputnum = 12345\n",
    "myinputstring = \"123321\"\n",
    "myinputfloat = 123.321\n",
    "\n",
    "def is_symmetrical(myinput): #consider only integers, strings, and floating-point numbers based on TA's answer on discussion board\n",
    "    if type(myinput) == int:\n",
    "        newstring = int(str(myinput)[::-1])\n",
    "    elif type(myinput) == float:\n",
    "        newstring = float(str(myinput)[::-1])\n",
    "    else: #string\n",
    "        newstring = myinput[::-1]\n",
    "\n",
    "    if newstring == myinput:\n",
    "        result = True\n",
    "    else:\n",
    "        result = False\n",
    "    return result\n",
    "is_symmetrical(myinputstring)\n"
   ]
  },
  {
   "cell_type": "markdown",
   "metadata": {
    "id": "xC08P3Mvpg6C"
   },
   "source": [
    "**c)** **[5 pts]** Define a function called `is_symmetrical_vec` that calls `is_symmetrical` function you updated in Q1.b to take a list of elements and return their results in a list.  For example, given \\[\"1441\", \"Apple\", \"radar\", \"232\", \"plane\"\\] the function returns \\[`True`, `False`, `True`, `True`, `False`\\]"
   ]
  },
  {
   "cell_type": "code",
   "execution_count": 132,
   "metadata": {
    "execution": {
     "iopub.execute_input": "2020-10-12T00:51:46.418Z",
     "iopub.status.busy": "2020-10-12T00:51:46.403Z",
     "iopub.status.idle": "2020-10-12T00:51:46.429Z",
     "shell.execute_reply": "2020-10-12T00:51:46.172Z"
    },
    "id": "MVoBD9X1pg6D",
    "pycharm": {
     "name": "#%%\n"
    },
    "tags": []
   },
   "outputs": [
    {
     "data": {
      "text/plain": [
       "[True, False, True, True, False]"
      ]
     },
     "execution_count": 132,
     "metadata": {},
     "output_type": "execute_result"
    }
   ],
   "source": [
    "samplelist = [\"1441\", \"Apple\", \"radar\", \"232\", \"plane\"]\n",
    "\n",
    "def is_symmetrical_vec(mylist):\n",
    "    resultlist = []\n",
    "    for element in mylist:\n",
    "        resultlist.append(is_symmetrical(element))\n",
    "    return resultlist\n",
    "\n",
    "is_symmetrical_vec(samplelist)"
   ]
  },
  {
   "cell_type": "markdown",
   "metadata": {
    "id": "M4dHoJWYpg6G"
   },
   "source": [
    "**d)** **[7 pts]** Define a function called `is_symmetrical_dict` by modifying the function you created in Q1.c to return the results in a dictionary with their corresponding input elements. \\\n",
    "For example, given \\[\"1441\", \"Apple\", \"radar\", \"232\", \"plane\"\\] the function returns {\"1441\": `True`, \"Apple\": `False`, \"radar\": `True`, \"232\": `True`, \"plane\": `False`\\}"
   ]
  },
  {
   "cell_type": "code",
   "execution_count": 131,
   "metadata": {
    "execution": {
     "iopub.execute_input": "2020-10-12T00:51:46.457Z",
     "iopub.status.busy": "2020-10-12T00:51:46.445Z",
     "iopub.status.idle": "2020-10-12T00:51:46.467Z",
     "shell.execute_reply": "2020-10-12T00:51:46.185Z"
    },
    "id": "gtgmUSaQpg6H",
    "pycharm": {
     "name": "#%%\n"
    },
    "tags": []
   },
   "outputs": [
    {
     "data": {
      "text/plain": [
       "{'1441': True, 'Apple': False, 'radar': True, '232': True, 'plane': False}"
      ]
     },
     "execution_count": 131,
     "metadata": {},
     "output_type": "execute_result"
    }
   ],
   "source": [
    "samplelist = [\"1441\", \"Apple\", \"radar\", \"232\", \"plane\"]\n",
    "def is_symmetrical_dict(mylist):\n",
    "    resultdict = {}\n",
    "    for element in mylist:\n",
    "        resultdict[element] = is_symmetrical(element)\n",
    "    return resultdict\n",
    "\n",
    "is_symmetrical_dict(samplelist)\n"
   ]
  },
  {
   "cell_type": "markdown",
   "metadata": {
    "id": "EXPv2CWzRDgl"
   },
   "source": [
    "**e)** **[8 pts]** Define a function called `is_symmetrical_tuple` by modifying the function you created in Q1.d to traverse the values of the returned dictionary **in reverse order** and return the dictionary keys that has a **`True`** value as a tuple.  For example, given \\[\"1441\", \"Apple\", \"radar\", \"232\", \"plane\"\\] the function returns (\"232\", \"radar\",\"1441\")."
   ]
  },
  {
   "cell_type": "code",
   "execution_count": 130,
   "metadata": {
    "id": "M25DHDYOUdpb"
   },
   "outputs": [
    {
     "data": {
      "text/plain": [
       "('232', '1441', 'radar')"
      ]
     },
     "execution_count": 130,
     "metadata": {},
     "output_type": "execute_result"
    }
   ],
   "source": [
    "samplelist = [\"1441\", \"Apple\", \"radar\", \"232\", \"plane\"]\n",
    "def is_symmetrical_dict(mylist):\n",
    "    resultdict = {}\n",
    "    keystuple = ()\n",
    "    for element in mylist:\n",
    "        resultdict[element] = is_symmetrical(element)\n",
    "    for key, value in resultdict.items():\n",
    "        if (value == True):\n",
    "            keystuple = keystuple + (key,)\n",
    "            keystuple = tuple(reversed(keystuple))\n",
    "    return keystuple\n",
    "\n",
    "is_symmetrical_dict(samplelist)\n"
   ]
  },
  {
   "cell_type": "markdown",
   "metadata": {
    "id": "ES2Lj2aup8BB"
   },
   "source": [
    "*****"
   ]
  },
  {
   "cell_type": "markdown",
   "metadata": {
    "id": "TEbtnn-0pg6K",
    "nteract": {
     "transient": {
      "deleting": false
     }
    }
   },
   "source": [
    "\n",
    "\n",
    "### Question 2 **[40 pts]** :\n",
    "The data file used in this question is downloaded from https://www.kaggle.com/arjunprasadsarkhel/2021-olympics-in-tokyo and converted to a csv file.\n",
    "\n"
   ]
  },
  {
   "cell_type": "markdown",
   "metadata": {
    "id": "mJNAfvKX_NxO"
   },
   "source": [
    "**a)** **[15 pts]** The [`Medals.csv`](https://app.box.com/s/92u6ydp0zih0gygwr8xl77vy3x0prq0u) is a delimited text file containing the number of medals of teams in the 2021 Olympics in Tokyo. The file contains the following columns separated by the comma character `, `\n",
    "*  Rank\n",
    "*  Team/NOC\n",
    "*  Gold\n",
    "*  Silver\n",
    "*  Bronze\n",
    "*  Total\n",
    "*  Rank by Total \n",
    "\n",
    "Write a code that asks the user to enter the file's name: `Medals.csv.`\n",
    " If the program finds the file in the folder in which you stored it, it will read the file's contents into a list of lists called `medalsList`.  Each list inside the `medalsList` represents one row from the `Medals.csv` file.  Ensure that your code reads and stores each row as a list of strings inside the `medalsList` data structure. For example the first row would be `['1', 'United States of America', '39', '41', '33', '113', '1']`"
   ]
  },
  {
   "cell_type": "code",
   "execution_count": 141,
   "metadata": {
    "execution": {
     "iopub.execute_input": "2020-10-12T00:51:46.534Z",
     "iopub.status.busy": "2020-10-12T00:51:46.523Z",
     "iopub.status.idle": "2020-10-12T00:51:46.546Z",
     "shell.execute_reply": "2020-10-12T00:51:46.214Z"
    },
    "id": "PWvj1Z6lpg6N",
    "nteract": {
     "transient": {
      "deleting": false
     }
    },
    "tags": []
   },
   "outputs": [
    {
     "name": "stdout",
     "output_type": "stream",
     "text": [
      "Please enter the file's name.Medals.csv\n",
      "['2', \"People's Republic of China\", '38', '32', '18', '88', '2']\n"
     ]
    }
   ],
   "source": [
    "filename = input(\"Please enter the file's name.\")\n",
    "MedalsList = []\n",
    "import csv\n",
    "with open(r'C:/Users/Daria/Downloads/' + filename, newline='') as csvfile:\n",
    "    has_header = csv.Sniffer().has_header(csvfile.read(1024))\n",
    "    csvfile.seek(0)\n",
    "    filereader = csv.reader(csvfile, delimiter=',', quotechar='|')\n",
    "    if has_header:\n",
    "        next(filereader)  # Skip header row.\n",
    "    for row in filereader:\n",
    "        MedalsList.append(row)\n",
    "print(MedalsList[1])"
   ]
  },
  {
   "cell_type": "markdown",
   "metadata": {
    "id": "y7gGjSbSG8rY"
   },
   "source": [
    "**b)** **[15 pts]** Write a code that asks the user to enter a team name and medal type; then, it will display the total number of medals that the team has won. For example, if the user enters `Canada` as the team's name and `Gold` as the medal's type, the code should display `7`.\n",
    "\n",
    "Make sure your code handles the following four issues:\n",
    "1. The user is allowed to enter lowercase and uppercase letters; your code must be case insensitive (e.g. if the user enters `canADa`, it still needs to locate `Canada` correctly)\n",
    "2. Your code should use the list `medalList` that you created in question Q2.a, rather than repeatedly reads the data from the `Medals.csv` file.\n",
    "3. The user can enter either `Gold`, `Silver`, `Bronze` or `All` for the medal's type.   For example, if the user enters `Canada` and `All`, the code should display `Gold: 7, Silver: 6, Bronze: 11, Total: 24`.\n",
    "4. If the user enters a team's name that is not in the list, the code should notify the user.  For example, if the user enters `Mozambique` as the team's name, the code would display: `Unfortunately, Mozambique did not participate in the 2021 Olympics!`\n"
   ]
  },
  {
   "cell_type": "code",
   "execution_count": 142,
   "metadata": {
    "execution": {
     "iopub.execute_input": "2020-10-12T00:51:46.573Z",
     "iopub.status.busy": "2020-10-12T00:51:46.562Z",
     "iopub.status.idle": "2020-10-12T00:51:46.584Z",
     "shell.execute_reply": "2020-10-12T00:51:46.227Z"
    },
    "id": "DVOaFVZvAvPO",
    "pycharm": {
     "name": "#%%\n"
    },
    "tags": []
   },
   "outputs": [
    {
     "name": "stdout",
     "output_type": "stream",
     "text": [
      "Please enter a team name.canada\n",
      "Please enter a medal type.All\n",
      "Gold: 7, Silver: 6, Bronze: 11, Total: 24\n"
     ]
    }
   ],
   "source": [
    "teamname = input(\"Please enter a team name.\")\n",
    "medaltype = input(\"Please enter a medal type.\")\n",
    " \n",
    "#Error Handling for case-sensitivity\n",
    "newteamname = teamname.title()\n",
    "notinlist = \"\"\n",
    "for i in range(len(MedalsList)):\n",
    "    if newteamname in MedalsList[i][1]:\n",
    "        gold = \"Gold: \" + MedalsList[i][2]\n",
    "        silver = \"Silver: \" + MedalsList[i][3]\n",
    "        bronze = \"Bronze: \" + MedalsList[i][4]\n",
    "        total = \"Total: \" + MedalsList[i][5]\n",
    "        if medaltype == \"Gold\":\n",
    "            print(gold)\n",
    "            notinlist = \"N\"\n",
    "        elif medaltype == \"Silver\":\n",
    "            print(silver)\n",
    "            notinlist = \"N\"\n",
    "        elif medaltype == \"Bronze\":\n",
    "            print(bronze)\n",
    "            notinlist = \"N\"\n",
    "        elif medaltype == \"All\":\n",
    "            print(gold + \",\" + \" \" + silver + \",\" + \" \" + bronze + \",\" + \" \" + total)\n",
    "            notinlist = \"N\"\n",
    "\n",
    "if notinlist == \"\":\n",
    "    print(\"Unfortunately, \" + newteamname + \" did not participate in the 2021 Olympics!\")\n",
    "    notinlist = \"\" #reset\n",
    "        \n"
   ]
  },
  {
   "cell_type": "markdown",
   "metadata": {
    "id": "mkFrWZ3kAvPQ"
   },
   "source": [
    "**c)** **[10 pts]** Write a code that will ask the first letter of the team name and display the total of the medals (grouped by the medal type) taken by the teams starting with the first letter as the selected one. E.g. if the user enters `f` (case insensitive) as the first letter of the team, then your code will scan the list, find the teams `France`, `Fiji`, and `Finland` then it will display the total medals `Gold: 11, Silver: 12, Bronze: 14` (the total Gold medals of the teams starting with `f`, the total Silver of the  teams starting with `f`, etc.  \n",
    "Make sure your code handle the cases listed below:\n",
    "\n",
    "*   The user is allowed to enter lowercase and uppercase letter, your code must be case insensitive.\n",
    "*   Your code must **use** (do not read the file again) the list created in question **Q2.a** containing all the information read from the file\n",
    "*   If there is no team name starting with the selected letter then your code needs to display an error message like `No team name starts with your selected letter in the 2021 Olympics`  "
   ]
  },
  {
   "cell_type": "code",
   "execution_count": 143,
   "metadata": {
    "colab": {
     "base_uri": "https://localhost:8080/"
    },
    "execution": {
     "iopub.execute_input": "2020-10-12T00:51:46.607Z",
     "iopub.status.busy": "2020-10-12T00:51:46.599Z",
     "iopub.status.idle": "2020-10-12T00:51:46.617Z",
     "shell.execute_reply": "2020-10-12T00:51:46.240Z"
    },
    "id": "fP4sK_mKAvPR",
    "outputId": "8036fa61-7094-4932-a342-67f7351f1107",
    "pycharm": {
     "name": "#%%\n"
    },
    "tags": []
   },
   "outputs": [
    {
     "name": "stdout",
     "output_type": "stream",
     "text": [
      "Please enter the first letter of the team name.f\n",
      "['Gold: 11, Silver: 12, Bronze: 14']\n"
     ]
    }
   ],
   "source": [
    "teamletter = input(\"Please enter the first letter of the team name.\")\n",
    "teamslist = []\n",
    "totalgold = totalsilver = totalbronze = totaltotal = 0\n",
    "#Error Handling for case-sensitivity\n",
    "teamletter = teamletter.upper()\n",
    "for i in range(len(MedalsList)):\n",
    "    if teamletter == MedalsList[i][1][0]:\n",
    "        totalgold = totalgold + int(MedalsList[i][2])\n",
    "        totalsilver = totalsilver + int(MedalsList[i][3])\n",
    "        totalbronze = totalbronze + int(MedalsList[i][4])\n",
    "        #totaltotal = totaltotal + int(MedalsList[i][5])\n",
    "        \n",
    "gold = \"Gold: \" + str(totalgold)\n",
    "silver = \"Silver: \" + str(totalsilver)\n",
    "bronze = \"Bronze: \" + str(totalbronze)\n",
    "#total = \"Total: \" + str(totaltotal)\n",
    "result = gold + \",\" + \" \" + silver + \",\" + \" \" + bronze# + \",\" + \" \" + total\n",
    "teamslist.append(result)\n",
    "\n",
    "if totalgold == 0 and totalsilver == 0 and totalbronze == 0: #if empty aka no results\n",
    "    print(\"No team name starts with your selected letter in the 2021 Olympics!\")\n",
    "else:\n",
    "    print(teamslist)"
   ]
  },
  {
   "cell_type": "markdown",
   "metadata": {
    "id": "M9eJ34NNAvPT"
   },
   "source": [
    "*****"
   ]
  },
  {
   "cell_type": "markdown",
   "metadata": {
    "id": "NNVEX5FMq_I7"
   },
   "source": [
    "### Question 3 **[30 pts]** :\n",
    "**a)** Define three classes: **Vehicle**, **Car** and **Truck**. Vehicle will be the parent class of Car and Truck.\n",
    "- Randomly create five objects of Car and Truck using the for loop given below\n",
    "- The program should output the correct number of vehicles: Car and Truck objects. \n",
    "- **The count of objects should be calculated within the class definitions**.\n",
    "  - Example output \\\\\n",
    "  There are  5  Vehicle objects ['Car', 'Car', 'Truck', 'Truck', 'Car'] \\\\\n",
    "\t 3 of them are Cars \\\\\n",
    "\t 2 of them are Trucks \\\\\n"
   ]
  },
  {
   "cell_type": "code",
   "execution_count": 144,
   "metadata": {
    "execution": {
     "iopub.execute_input": "2020-10-12T00:51:46.676Z",
     "iopub.status.busy": "2020-10-12T00:51:46.667Z",
     "iopub.status.idle": "2020-10-12T00:51:46.688Z",
     "shell.execute_reply": "2020-10-12T00:51:46.268Z"
    },
    "id": "O3jPbo4vAvPc"
   },
   "outputs": [
    {
     "name": "stdout",
     "output_type": "stream",
     "text": [
      "There are 5 Vehicle objects.\n",
      "['Car', 'Truck', 'Truck', 'Truck', 'Truck']\n",
      "1 of them are Cars\n",
      "4 of them are Trucks\n"
     ]
    }
   ],
   "source": [
    "from random import choice\n",
    "\n",
    "\n",
    "class Vehicle:\n",
    "    numVehicles = 0\n",
    "\n",
    "    def __init__(self):\n",
    "        Vehicle.numVehicles += 1\n",
    "\n",
    "\n",
    "class Car(Vehicle):\n",
    "    numCars = 0\n",
    "\n",
    "    def __init__(self):\n",
    "        Car.numCars += 1\n",
    "        super().__init__()\n",
    "\n",
    "\n",
    "class Truck(Vehicle):\n",
    "    numTrucks = 0\n",
    "\n",
    "    def __init__(self):\n",
    "        global numTrucks\n",
    "        Truck.numTrucks += 1\n",
    "        super().__init__()\n",
    "\n",
    "\n",
    "list_of_vehicles = [choice(['Car', 'Truck']) for x in range(5)]\n",
    "for vehicle in list_of_vehicles:\n",
    "    if vehicle == 'Car':\n",
    "        o = Car()\n",
    "    else:\n",
    "        c = Truck()\n",
    "\n",
    "result = \"There are \" + str(Vehicle.numVehicles) + \" Vehicle objects.\"\n",
    "print(result)\n",
    "print(list_of_vehicles)\n",
    "print(str(Car.numCars) + \" of them are Cars\")\n",
    "print(str(Truck.numTrucks) + \" of them are Trucks\")\n",
    "#Example output \\ \n",
    "#There are 5 Vehicle objects ['Car', 'Car', 'Truck', 'Truck', 'Car'] \n",
    "#\\ 3 of them are Cars \\ 2 of them are Trucks \\"
   ]
  },
  {
   "cell_type": "markdown",
   "metadata": {
    "id": "l9l0sjUoAvPk"
   },
   "source": [
    "#### This is the end of assignment 2"
   ]
  },
  {
   "cell_type": "markdown",
   "metadata": {
    "id": "fQxcs9dUqK3V"
   },
   "source": []
  }
 ],
 "metadata": {
  "colab": {
   "collapsed_sections": [],
   "name": "CIND830W21_Assignment_2_(Q).ipynb",
   "provenance": []
  },
  "kernelspec": {
   "display_name": "Python 3",
   "language": "python",
   "name": "python3"
  },
  "language_info": {
   "codemirror_mode": {
    "name": "ipython",
    "version": 3
   },
   "file_extension": ".py",
   "mimetype": "text/x-python",
   "name": "python",
   "nbconvert_exporter": "python",
   "pygments_lexer": "ipython3",
   "version": "3.8.8"
  },
  "nteract": {
   "version": "0.25.1"
  },
  "varInspector": {
   "cols": {
    "lenName": 16,
    "lenType": 16,
    "lenVar": 40
   },
   "kernels_config": {
    "python": {
     "delete_cmd_postfix": "",
     "delete_cmd_prefix": "del ",
     "library": "var_list.py",
     "varRefreshCmd": "print(var_dic_list())"
    },
    "r": {
     "delete_cmd_postfix": ") ",
     "delete_cmd_prefix": "rm(",
     "library": "var_list.r",
     "varRefreshCmd": "cat(var_dic_list()) "
    }
   },
   "types_to_exclude": [
    "module",
    "function",
    "builtin_function_or_method",
    "instance",
    "_Feature"
   ],
   "window_display": false
  }
 },
 "nbformat": 4,
 "nbformat_minor": 4
}
